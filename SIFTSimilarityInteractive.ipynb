{
 "cells": [
  {
   "cell_type": "markdown",
   "metadata": {},
   "source": [
    "## Import Libraries"
   ]
  },
  {
   "cell_type": "code",
   "execution_count": null,
   "metadata": {},
   "outputs": [],
   "source": [
    "import pysift\n",
    "import cv2 \n",
    "import pickle\n",
    "import matplotlib.pyplot as plt"
   ]
  },
  {
   "cell_type": "markdown",
   "metadata": {},
   "source": [
    "### Resize Images function"
   ]
  },
  {
   "cell_type": "code",
   "execution_count": null,
   "metadata": {},
   "outputs": [],
   "source": [
    "# Resize images to a similar dimension\n",
    "# This helps improve accuracy and decreases unnecessarily high number of keypoints\n",
    "\n",
    "def imageResize(image):\n",
    "    maxD = 1000\n",
    "    height,width,channels = image.shape\n",
    "    aspectRatio = width/height\n",
    "    if aspectRatio < 1:\n",
    "        newSize = (int(maxD*aspectRatio),maxD)\n",
    "    else:\n",
    "        newSize = (maxD,int(maxD/aspectRatio))\n",
    "    image = cv2.resize(image,newSize)\n",
    "    return image"
   ]
  },
  {
   "cell_type": "code",
   "execution_count": null,
   "metadata": {},
   "outputs": [],
   "source": []
  },
  {
   "cell_type": "markdown",
   "metadata": {},
   "source": [
    "## Generate Keypoint and Descriptors"
   ]
  },
  {
   "cell_type": "markdown",
   "metadata": {},
   "source": [
    "### Prepare list of images"
   ]
  },
  {
   "cell_type": "code",
   "execution_count": null,
   "metadata": {},
   "outputs": [],
   "source": [
    "# Define a list of images the way you like\n",
    "\n",
    "imageList = [\"taj1.jpeg\",\"taj2.jpeg\",\"eiffel1.jpeg\",\"eiffel2.jpeg\",\"liberty1.jpeg\",\"liberty2.jpeg\",\"robert1.jpeg\",\"tom1.jpeg\",\"ironman1.jpeg\",\"ironman2.jpeg\",\"darkknight1.jpeg\",\"darkknight2.jpeg\"]"
   ]
  },
  {
   "cell_type": "code",
   "execution_count": null,
   "metadata": {},
   "outputs": [],
   "source": [
    "images = []\n",
    "for image in imageList:\n",
    "    images.append(imageResize(cv2.imread(image)))"
   ]
  },
  {
   "cell_type": "code",
   "execution_count": null,
   "metadata": {},
   "outputs": [],
   "source": [
    "# Gray-scasle images improve speed\n",
    "\n",
    "imageBW = []\n",
    "for image in images:\n",
    "    imageBW.append(cv2.cvtColor(image, cv2.COLOR_BGR2GRAY))"
   ]
  },
  {
   "cell_type": "markdown",
   "metadata": {},
   "source": [
    "### The following is the main function to generate the keypoints and descriptors<br>\n",
    "When using SIFT, this takes a lot of time to compute.<br>\n",
    "Thus, it is suggested, you store the values once computed<br>\n",
    "(Code for storing is written below)"
   ]
  },
  {
   "cell_type": "code",
   "execution_count": null,
   "metadata": {},
   "outputs": [],
   "source": [
    "keypoints = []\n",
    "descriptors = []\n",
    "i = 0\n",
    "for image in imageBW:\n",
    "    print(\"Starting for image: \" + imageList[i])\n",
    "    keypointTemp, descriptorTemp = pysift.computeKeypointsAndDescriptors(image)\n",
    "    keypoints.append(keypointTemp)\n",
    "    descriptors.append(descriptorTemp)\n",
    "    print(\"  Ending for image: \" + imageList[i])\n",
    "    i += 1"
   ]
  },
  {
   "cell_type": "markdown",
   "metadata": {},
   "source": [
    "### Store Keypoints and Descriptors for future use"
   ]
  },
  {
   "cell_type": "code",
   "execution_count": null,
   "metadata": {},
   "outputs": [],
   "source": [
    "i = 0\n",
    "for keypoint in keypoints:\n",
    "    deserializedKeypoints = []\n",
    "    filepath = \"data/keypoints/\" + str(imageList[i].split('.')[0]) + \".txt\"\n",
    "    for point in keypoint:\n",
    "        temp = (point.pt, point.size, point.angle, point.response, point.octave, point.class_id)\n",
    "        deserializedKeypoints.append(temp)\n",
    "    with open(filepath, 'wb') as fp:\n",
    "        pickle.dump(deserializedKeypoints, fp)    \n",
    "    i += 1"
   ]
  },
  {
   "cell_type": "code",
   "execution_count": null,
   "metadata": {},
   "outputs": [],
   "source": [
    "i = 0\n",
    "for descriptor in descriptors:\n",
    "    filepath = \"data/descriptors/\" + str(imageList[i].split('.')[0]) + \".txt\"\n",
    "    with open(filepath, 'wb') as fp:\n",
    "        pickle.dump(descriptor, fp)\n",
    "    i += 1"
   ]
  },
  {
   "cell_type": "code",
   "execution_count": null,
   "metadata": {},
   "outputs": [],
   "source": []
  },
  {
   "cell_type": "markdown",
   "metadata": {},
   "source": [
    "## Prepare for fetching results"
   ]
  },
  {
   "cell_type": "markdown",
   "metadata": {},
   "source": [
    "### Fetch Keypoints and Descriptors from stored files"
   ]
  },
  {
   "cell_type": "code",
   "execution_count": null,
   "metadata": {},
   "outputs": [],
   "source": [
    "def fetchKeypointFromFile(i):\n",
    "    filepath = \"data/keypoints/\" + str(imageList[i].split('.')[0]) + \".txt\"\n",
    "    keypoint = []\n",
    "    file = open(filepath,'rb')\n",
    "    deserializedKeypoints = pickle.load(file)\n",
    "    file.close()\n",
    "    for point in deserializedKeypoints:\n",
    "        temp = cv2.KeyPoint(x=point[0][0],y=point[0][1],_size=point[1], _angle=point[2], _response=point[3], _octave=point[4], _class_id=point[5])\n",
    "        keypoint.append(temp)\n",
    "    return keypoint"
   ]
  },
  {
   "cell_type": "code",
   "execution_count": null,
   "metadata": {},
   "outputs": [],
   "source": [
    "def fetchDescriptorFromFile(i):\n",
    "    filepath = \"data/descriptors/\" + str(imageList[i].split('.')[0]) + \".txt\"\n",
    "    file = open(filepath,'rb')\n",
    "    descriptor = pickle.load(file)\n",
    "    file.close()\n",
    "    return descriptor"
   ]
  },
  {
   "cell_type": "markdown",
   "metadata": {},
   "source": [
    "### Calculate Results for any pair"
   ]
  },
  {
   "cell_type": "code",
   "execution_count": null,
   "metadata": {},
   "outputs": [],
   "source": [
    "def calculateResultsFor(i,j):\n",
    "    keypoint1 = fetchKeypointFromFile(i)\n",
    "    descriptor1 = fetchDescriptorFromFile(i)\n",
    "    keypoint2 = fetchKeypointFromFile(j)\n",
    "    descriptor2 = fetchDescriptorFromFile(j)\n",
    "    matches = calculateMatches( descriptor1, descriptor2)\n",
    "    score = calculateScore(len(matches),len(keypoint1),len(keypoint2))\n",
    "    plot = getPlotFor(i,j,keypoint1,keypoint2,matches)\n",
    "    print(len(matches),len(keypoint1),len(keypoint2),len(descriptor1),len(descriptor2))\n",
    "    print(score)\n",
    "    plt.imshow(plot),plt.show()"
   ]
  },
  {
   "cell_type": "code",
   "execution_count": null,
   "metadata": {},
   "outputs": [],
   "source": [
    "def getPlotFor(i,j,keypoint1,keypoint2,matches):\n",
    "    image1 = imageResize(cv2.imread(imageList[i]))\n",
    "    image1 = cv2.cvtColor(image1, cv2.COLOR_BGR2GRAY)\n",
    "    image2 = imageResize(cv2.imread(imageList[j]))\n",
    "    image2 = cv2.cvtColor(image2, cv2.COLOR_BGR2GRAY)\n",
    "    return getPlot(image1,image2,keypoint1,keypoint2,matches)"
   ]
  },
  {
   "cell_type": "markdown",
   "metadata": {},
   "source": [
    "### Basic Scoring metric\n",
    "A score greater than 10 means very good"
   ]
  },
  {
   "cell_type": "code",
   "execution_count": null,
   "metadata": {},
   "outputs": [],
   "source": [
    "def calculateScore(matches,keypoint1,keypoint2):\n",
    "    return 100 * (matches/min(keypoint1,keypoint2))"
   ]
  },
  {
   "cell_type": "markdown",
   "metadata": {},
   "source": [
    "### Use this part of code for brute force matching"
   ]
  },
  {
   "cell_type": "code",
   "execution_count": null,
   "metadata": {},
   "outputs": [],
   "source": [
    "# bf = cv2.BFMatcher(cv2.NORM_L1, crossCheck=True)\n",
    "# def calculateMatches(descriptor1,descriptor2):\n",
    "#     matches = bf.match(descriptor1,descriptor2)\n",
    "#     matches = sorted(matches, key = lambda x:x.distance)\n",
    "#     return matches"
   ]
  },
  {
   "cell_type": "code",
   "execution_count": null,
   "metadata": {},
   "outputs": [],
   "source": [
    "# def getPlot(image1,image2,keypoint1,keypoint2,matches):\n",
    "#     matchPlot = cv2.drawMatches(image1, keypoint1, image2, keypoint2, matches[:50], image2, flags=2)\n",
    "#     return matchPlot"
   ]
  },
  {
   "cell_type": "markdown",
   "metadata": {},
   "source": [
    "### Use this part of code for knn matching"
   ]
  },
  {
   "cell_type": "code",
   "execution_count": null,
   "metadata": {},
   "outputs": [],
   "source": [
    "bf = cv2.BFMatcher()\n",
    "def calculateMatches(des1,des2):\n",
    "    matches = bf.knnMatch(des1,des2,k=2)\n",
    "    topResults = []\n",
    "    for m,n in matches:\n",
    "        if m.distance < 0.7*n.distance:\n",
    "            topResults.append([m])\n",
    "    return topResults"
   ]
  },
  {
   "cell_type": "code",
   "execution_count": null,
   "metadata": {},
   "outputs": [],
   "source": [
    "def getPlot(image1,image2,keypoint1,keypoint2,matches):\n",
    "    matchPlot = cv2.drawMatchesKnn(image1,keypoint1,image2,keypoint2,matches,None,flags=cv2.DrawMatchesFlags_NOT_DRAW_SINGLE_POINTS)\n",
    "    return matchPlot"
   ]
  },
  {
   "cell_type": "code",
   "execution_count": null,
   "metadata": {},
   "outputs": [],
   "source": []
  },
  {
   "cell_type": "markdown",
   "metadata": {},
   "source": [
    "## Fetch Results"
   ]
  },
  {
   "cell_type": "markdown",
   "metadata": {},
   "source": [
    "### Sample Results"
   ]
  },
  {
   "cell_type": "code",
   "execution_count": null,
   "metadata": {},
   "outputs": [],
   "source": [
    "calculateResultsFor(0,1)\n",
    "calculateResultsFor(2,3)\n",
    "calculateResultsFor(4,5)\n",
    "calculateResultsFor(6,7)\n",
    "calculateResultsFor(8,9)\n",
    "calculateResultsFor(10,11)\n",
    "calculateResultsFor(0,9)\n",
    "calculateResultsFor(2,9)\n",
    "calculateResultsFor(5,9)\n",
    "calculateResultsFor(2,11)"
   ]
  },
  {
   "cell_type": "code",
   "execution_count": null,
   "metadata": {},
   "outputs": [],
   "source": []
  }
 ],
 "metadata": {
  "kernelspec": {
   "display_name": "Python 3",
   "language": "python",
   "name": "python3"
  },
  "language_info": {
   "codemirror_mode": {
    "name": "ipython",
    "version": 3
   },
   "file_extension": ".py",
   "mimetype": "text/x-python",
   "name": "python",
   "nbconvert_exporter": "python",
   "pygments_lexer": "ipython3",
   "version": "3.6.5"
  }
 },
 "nbformat": 4,
 "nbformat_minor": 4
}
